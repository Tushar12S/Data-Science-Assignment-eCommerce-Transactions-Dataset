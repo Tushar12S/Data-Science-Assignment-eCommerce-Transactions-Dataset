{
  "nbformat": 4,
  "nbformat_minor": 0,
  "metadata": {
    "colab": {
      "provenance": [],
      "authorship_tag": "ABX9TyPNFGj9aa0+WudTpPw+ZYKp",
      "include_colab_link": true
    },
    "kernelspec": {
      "name": "python3",
      "display_name": "Python 3"
    },
    "language_info": {
      "name": "python"
    }
  },
  "cells": [
    {
      "cell_type": "markdown",
      "metadata": {
        "id": "view-in-github",
        "colab_type": "text"
      },
      "source": [
        "<a href=\"https://colab.research.google.com/github/Tushar12S/Data-Science-Assignment-eCommerce-Transactions-Dataset/blob/main/Tushar_Shetty_Lookalike.ipynb\" target=\"_parent\"><img src=\"https://colab.research.google.com/assets/colab-badge.svg\" alt=\"Open In Colab\"/></a>"
      ]
    },
    {
      "cell_type": "code",
      "execution_count": 1,
      "metadata": {
        "id": "Nyhzdjm42YSU"
      },
      "outputs": [],
      "source": [
        "import pandas as pd\n",
        "from sklearn.metrics.pairwise import cosine_similarity\n",
        "from sklearn.preprocessing import StandardScaler\n"
      ]
    },
    {
      "cell_type": "code",
      "source": [
        "# Load datasets\n",
        "customers = pd.read_csv('/content/Customers.csv')\n",
        "products = pd.read_csv('/content/Products.csv')\n",
        "transactions = pd.read_csv('/content/Transactions.csv')\n",
        "\n",
        "# Inspect column names to verify correctness\n",
        "print(customers.columns)\n",
        "print(products.columns)\n",
        "print(transactions.columns)\n",
        "\n"
      ],
      "metadata": {
        "colab": {
          "base_uri": "https://localhost:8080/"
        },
        "id": "isau8BDA2g0y",
        "outputId": "68e0f0a7-e8e7-45ae-f0d1-1e729744e630"
      },
      "execution_count": 8,
      "outputs": [
        {
          "output_type": "stream",
          "name": "stdout",
          "text": [
            "Index(['CustomerID', 'CustomerName', 'Region', 'SignupDate'], dtype='object')\n",
            "Index(['ProductID', 'ProductName', 'Category', 'Price'], dtype='object')\n",
            "Index(['TransactionID', 'CustomerID', 'ProductID', 'TransactionDate',\n",
            "       'Quantity', 'TotalValue', 'Price'],\n",
            "      dtype='object')\n"
          ]
        }
      ]
    },
    {
      "cell_type": "code",
      "source": [
        "# Merge transactions with customers and products\n",
        "merged_data = transactions.merge(customers, on='CustomerID').merge(products, on='ProductID')\n",
        "\n",
        "# Rename ambiguous columns\n",
        "merged_data.rename(columns={'Price_x': 'TransactionPrice', 'Price_y': 'ProductPrice'}, inplace=True, errors='ignore')\n",
        "\n",
        "# Inspect merged data\n",
        "print(merged_data.head())\n"
      ],
      "metadata": {
        "colab": {
          "base_uri": "https://localhost:8080/"
        },
        "id": "2Ysn_0LO5TTJ",
        "outputId": "78881434-5df7-44ad-c2b1-ca225a18c797"
      },
      "execution_count": 9,
      "outputs": [
        {
          "output_type": "stream",
          "name": "stdout",
          "text": [
            "  TransactionID CustomerID ProductID      TransactionDate  Quantity  \\\n",
            "0        T00001      C0199      P067  2024-08-25 12:38:23         1   \n",
            "1        T00112      C0146      P067  2024-05-27 22:23:54         1   \n",
            "2        T00166      C0127      P067  2024-04-25 07:38:55         1   \n",
            "3        T00272      C0087      P067  2024-03-26 22:55:37         2   \n",
            "4        T00363      C0070      P067  2024-03-21 15:10:10         3   \n",
            "\n",
            "   TotalValue  TransactionPrice     CustomerName         Region  SignupDate  \\\n",
            "0      300.68            300.68   Andrea Jenkins         Europe  2022-12-03   \n",
            "1      300.68            300.68  Brittany Harvey           Asia  2024-09-04   \n",
            "2      300.68            300.68  Kathryn Stevens         Europe  2024-04-04   \n",
            "3      601.36            300.68  Travis Campbell  South America  2024-04-11   \n",
            "4      902.04            300.68    Timothy Perez         Europe  2022-03-15   \n",
            "\n",
            "                       ProductName     Category  ProductPrice  \n",
            "0  ComfortLiving Bluetooth Speaker  Electronics        300.68  \n",
            "1  ComfortLiving Bluetooth Speaker  Electronics        300.68  \n",
            "2  ComfortLiving Bluetooth Speaker  Electronics        300.68  \n",
            "3  ComfortLiving Bluetooth Speaker  Electronics        300.68  \n",
            "4  ComfortLiving Bluetooth Speaker  Electronics        300.68  \n"
          ]
        }
      ]
    },
    {
      "cell_type": "code",
      "source": [
        "# Aggregate transaction data\n",
        "customer_features = merged_data.groupby('CustomerID').agg({\n",
        "    'TotalValue': 'sum',  # Total revenue generated by the customer\n",
        "    'Quantity': 'sum',    # Total quantity purchased\n",
        "    'TransactionPrice': 'mean'  # Average price paid in transactions\n",
        "}).reset_index()\n",
        "\n",
        "# Merge with customer profile information\n",
        "customer_profiles = customers.merge(customer_features, on='CustomerID', how='left')\n",
        "\n",
        "# Fill missing values for customers with no transactions\n",
        "customer_profiles.fillna(0, inplace=True)\n",
        "\n",
        "# Display the resulting customer profiles\n",
        "print(customer_profiles.head())\n"
      ],
      "metadata": {
        "colab": {
          "base_uri": "https://localhost:8080/"
        },
        "id": "ATiYDl9l2zrs",
        "outputId": "8ae79dbd-5319-43d4-f6a7-5cbc02d81bb6"
      },
      "execution_count": 10,
      "outputs": [
        {
          "output_type": "stream",
          "name": "stdout",
          "text": [
            "  CustomerID        CustomerName         Region  SignupDate  TotalValue  \\\n",
            "0      C0001    Lawrence Carroll  South America  2022-07-10     3354.52   \n",
            "1      C0002      Elizabeth Lutz           Asia  2022-02-13     1862.74   \n",
            "2      C0003      Michael Rivera  South America  2024-03-07     2725.38   \n",
            "3      C0004  Kathleen Rodriguez  South America  2022-10-09     5354.88   \n",
            "4      C0005         Laura Weber           Asia  2022-08-15     2034.24   \n",
            "\n",
            "   Quantity  TransactionPrice  \n",
            "0      12.0        278.334000  \n",
            "1      10.0        208.920000  \n",
            "2      14.0        195.707500  \n",
            "3      23.0        240.636250  \n",
            "4       7.0        291.603333  \n"
          ]
        }
      ]
    },
    {
      "cell_type": "code",
      "source": [
        "# Normalize numerical columns\n",
        "scaler = StandardScaler()\n",
        "numerical_columns = ['TotalValue', 'Quantity', 'TransactionPrice']\n",
        "customer_profiles[numerical_columns] = scaler.fit_transform(customer_profiles[numerical_columns])\n",
        "\n",
        "# Display the normalized profiles\n",
        "print(customer_profiles.head())\n"
      ],
      "metadata": {
        "colab": {
          "base_uri": "https://localhost:8080/"
        },
        "id": "LGINUx0Q5agK",
        "outputId": "8f714a4d-d917-4d4d-f47e-94f5b89fc3ee"
      },
      "execution_count": 11,
      "outputs": [
        {
          "output_type": "stream",
          "name": "stdout",
          "text": [
            "  CustomerID        CustomerName         Region  SignupDate  TotalValue  \\\n",
            "0      C0001    Lawrence Carroll  South America  2022-07-10   -0.051884   \n",
            "1      C0002      Elizabeth Lutz           Asia  2022-02-13   -0.862714   \n",
            "2      C0003      Michael Rivera  South America  2024-03-07   -0.393842   \n",
            "3      C0004  Kathleen Rodriguez  South America  2022-10-09    1.035375   \n",
            "4      C0005         Laura Weber           Asia  2022-08-15   -0.769499   \n",
            "\n",
            "   Quantity  TransactionPrice  \n",
            "0 -0.110735          0.110366  \n",
            "1 -0.434049         -0.854626  \n",
            "2  0.212579         -1.038306  \n",
            "3  1.667493         -0.413708  \n",
            "4 -0.919021          0.294836  \n"
          ]
        }
      ]
    },
    {
      "cell_type": "code",
      "source": [
        "# Prepare feature matrix\n",
        "feature_matrix = customer_profiles.set_index('CustomerID')[numerical_columns].values\n",
        "\n",
        "# Compute cosine similarity\n",
        "similarity_matrix = cosine_similarity(feature_matrix)\n",
        "\n",
        "# Create a DataFrame\n",
        "similarity_df = pd.DataFrame(similarity_matrix, index=customer_profiles['CustomerID'], columns=customer_profiles['CustomerID'])\n",
        "\n",
        "# Display the similarity\n",
        "print(similarity_df.head())\n"
      ],
      "metadata": {
        "colab": {
          "base_uri": "https://localhost:8080/"
        },
        "id": "pFniO97U5dJz",
        "outputId": "4c7861a1-60a3-4da0-acc1-8e21139150d3"
      },
      "execution_count": 12,
      "outputs": [
        {
          "output_type": "stream",
          "name": "stdout",
          "text": [
            "CustomerID     C0001     C0002     C0003     C0004     C0005     C0006  \\\n",
            "CustomerID                                                               \n",
            "C0001       1.000000 -0.007041 -0.631946 -0.859581  0.856884  0.535879   \n",
            "C0002      -0.007041  1.000000  0.778325 -0.488415  0.509339 -0.845597   \n",
            "C0003      -0.631946  0.778325  1.000000  0.165898 -0.142181 -0.992820   \n",
            "C0004      -0.859581 -0.488415  0.165898  1.000000 -0.989955 -0.052640   \n",
            "C0005       0.856884  0.509339 -0.142181 -0.989955  1.000000  0.024587   \n",
            "\n",
            "CustomerID     C0007     C0008     C0009     C0010  ...     C0191     C0192  \\\n",
            "CustomerID                                          ...                       \n",
            "C0001       0.984218 -0.945042  0.823996 -0.382075  ...  0.931258  0.819770   \n",
            "C0002      -0.114098 -0.243549  0.560490  0.926798  ...  0.339062  0.562188   \n",
            "C0003      -0.699051  0.412339 -0.081705  0.956619  ... -0.316225 -0.075445   \n",
            "C0004      -0.774871  0.963187 -0.985980 -0.128577  ... -0.956532 -0.976055   \n",
            "C0005       0.789714 -0.936372  0.998139  0.148886  ...  0.977412  0.996001   \n",
            "\n",
            "CustomerID     C0193     C0194     C0195     C0196     C0197     C0198  \\\n",
            "CustomerID                                                               \n",
            "C0001       0.519164 -0.959641 -0.989535  0.534111  0.217281  0.564201   \n",
            "C0002       0.840120 -0.001802 -0.117021 -0.848580  0.973861  0.812735   \n",
            "C0003       0.319268  0.588118  0.532448 -0.990051  0.616027  0.270482   \n",
            "C0004      -0.881022  0.792891  0.921409 -0.037342 -0.673837 -0.904422   \n",
            "C0005       0.878210 -0.829883 -0.910988  0.022604  0.688484  0.903020   \n",
            "\n",
            "CustomerID     C0199     C0200  \n",
            "CustomerID                      \n",
            "C0001       0.452488 -0.354661  \n",
            "C0002       0.887225 -0.932475  \n",
            "C0003       0.405185 -0.499480  \n",
            "C0004      -0.822957  0.767135  \n",
            "C0005       0.847197 -0.785792  \n",
            "\n",
            "[5 rows x 200 columns]\n"
          ]
        }
      ]
    },
    {
      "cell_type": "code",
      "source": [
        "# Function to get top 3 lookalikes\n",
        "def get_top_3_lookalikes(customer_id, similarity_df):\n",
        "    similar_customers = similarity_df[customer_id].sort_values(ascending=False).iloc[1:4]\n",
        "    return [(cust_id, score) for cust_id, score in similar_customers.items()]\n",
        "\n",
        "# Generate recommendations for the first 20 customers\n",
        "lookalikes = {}\n",
        "for customer_id in customer_profiles['CustomerID'][:20]:\n",
        "    lookalikes[customer_id] = get_top_3_lookalikes(customer_id, similarity_df)\n",
        "\n",
        "# Display lookalike recommendations\n",
        "print(lookalikes)\n"
      ],
      "metadata": {
        "colab": {
          "base_uri": "https://localhost:8080/"
        },
        "id": "8_YAxXh_5h61",
        "outputId": "d7706f37-61e4-4793-95c4-a3e33d84bad9"
      },
      "execution_count": 13,
      "outputs": [
        {
          "output_type": "stream",
          "name": "stdout",
          "text": [
            "{'C0001': [('C0135', 0.9988906060990247), ('C0092', 0.9984804324524524), ('C0085', 0.995717591074867)], 'C0002': [('C0029', 0.9998501691627888), ('C0077', 0.9958951618516074), ('C0157', 0.9952987247900796)], 'C0003': [('C0111', 0.9987135659533447), ('C0190', 0.9958326787515313), ('C0038', 0.9894285881729176)], 'C0004': [('C0165', 0.9982215400873512), ('C0162', 0.9979217801509803), ('C0075', 0.9968180373404781)], 'C0005': [('C0167', 0.9999745104661253), ('C0020', 0.9997464179787114), ('C0128', 0.9987076575225469)], 'C0006': [('C0168', 0.9980204782883809), ('C0196', 0.9954421565049777), ('C0187', 0.9944493364789593)], 'C0007': [('C0125', 0.999915189711417), ('C0089', 0.9982699729142873), ('C0085', 0.9959368278047785)], 'C0008': [('C0084', 0.9961032994555747), ('C0113', 0.9959517012878036), ('C0017', 0.9932655818884806)], 'C0009': [('C0130', 0.9999592690544815), ('C0128', 0.9986532180739148), ('C0192', 0.9984645724439802)], 'C0010': [('C0176', 0.9994943208183413), ('C0055', 0.9941455277902663), ('C0174', 0.9930764269605726)], 'C0011': [('C0023', 0.99861016145421), ('C0139', 0.9870503652773356), ('C0100', 0.9853157705434682)], 'C0012': [('C0101', 0.9999575717935717), ('C0093', 0.9996454156878266), ('C0065', 0.9995909759061252)], 'C0013': [('C0021', 0.9997112956520858), ('C0059', 0.9977039852138542), ('C0141', 0.9975078051185515)], 'C0014': [('C0097', 0.9987081279076839), ('C0043', 0.9969773687620024), ('C0032', 0.9961326331351282)], 'C0015': [('C0058', 0.9990091759770791), ('C0186', 0.9948648124781666), ('C0191', 0.9936433902751043)], 'C0016': [('C0040', 0.9996927787291257), ('C0107', 0.9980151098737139), ('C0066', 0.9978550588699437)], 'C0017': [('C0113', 0.9996553922083172), ('C0084', 0.9950467721201252), ('C0008', 0.9932655818884806)], 'C0018': [('C0041', 0.9952050443582929), ('C0068', 0.9941287278005968), ('C0004', 0.9899319355277253)], 'C0019': [('C0166', 0.9971270899511685), ('C0031', 0.9937914520175695), ('C0088', 0.9875115153022233)], 'C0020': [('C0005', 0.9997464179787114), ('C0128', 0.9995728440435195), ('C0167', 0.9995636077574238)]}\n"
          ]
        }
      ]
    },
    {
      "cell_type": "code",
      "source": [
        "# Prepare data for saving\n",
        "lookalike_data = {'CustomerID': [], 'Lookalikes': []}\n",
        "for cust_id, similar in lookalikes.items():\n",
        "    lookalike_data['CustomerID'].append(cust_id)\n",
        "    lookalike_data['Lookalikes'].append(similar)\n",
        "\n",
        "# Create a DataFrame for lookalikes\n",
        "lookalike_df = pd.DataFrame(lookalike_data)\n",
        "\n",
        "# Save as CSV\n",
        "lookalike_df.to_csv('Lookalike.csv', index=False)\n",
        "\n",
        "# Display the saved DataFrame\n",
        "print(lookalike_df.head())\n"
      ],
      "metadata": {
        "colab": {
          "base_uri": "https://localhost:8080/"
        },
        "id": "zhKw2iVR5jPZ",
        "outputId": "94111425-51ea-4782-e87b-184459ccb9fb"
      },
      "execution_count": 14,
      "outputs": [
        {
          "output_type": "stream",
          "name": "stdout",
          "text": [
            "  CustomerID                                         Lookalikes\n",
            "0      C0001  [(C0135, 0.9988906060990247), (C0092, 0.998480...\n",
            "1      C0002  [(C0029, 0.9998501691627888), (C0077, 0.995895...\n",
            "2      C0003  [(C0111, 0.9987135659533447), (C0190, 0.995832...\n",
            "3      C0004  [(C0165, 0.9982215400873512), (C0162, 0.997921...\n",
            "4      C0005  [(C0167, 0.9999745104661253), (C0020, 0.999746...\n"
          ]
        }
      ]
    }
  ]
}